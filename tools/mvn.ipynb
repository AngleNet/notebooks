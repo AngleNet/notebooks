{
 "cells": [
  {
   "cell_type": "markdown",
   "metadata": {},
   "source": [
    "# MVN \n",
    "\n",
    "## mvn-compiler-plugin\n",
    "```\n",
    "\n",
    "```\n",
    "## Multi pom.xml\n",
    "聚合（<module>)一次构建多个项目,顶层项目的package是一个pom\n",
    "继承（<parent> <dependencies>）\n",
    "SNAPSHOT: 每次构建都会尝试拉取最新版本\n",
    "    \n",
    "## maven-release-plugin\n",
    "自动打tag、\n",
    "mvn release:prepare\n",
    "mvn release:perform\n",
    "mvn release:rollback\n",
    "\n",
    "## maven-surefire-plugin\n",
    "执行自动化测试\n",
    "\n",
    "## Dependency conflicts\n",
    "1. 使用<dependencyManagement>\n",
    "2. 去掉依赖\n",
    "    <exclusion>\n",
    "3. 显式依赖\n",
    "        \n",
    "在parent中已经引入了版本号，在子pom中可以覆盖"
   ]
  },
  {
   "cell_type": "code",
   "execution_count": null,
   "metadata": {},
   "outputs": [],
   "source": []
  },
  {
   "cell_type": "code",
   "execution_count": null,
   "metadata": {},
   "outputs": [],
   "source": []
  }
 ],
 "metadata": {
  "kernelspec": {
   "display_name": "Python 3",
   "language": "python",
   "name": "python3"
  },
  "language_info": {
   "codemirror_mode": {
    "name": "ipython",
    "version": 3
   },
   "file_extension": ".py",
   "mimetype": "text/x-python",
   "name": "python",
   "nbconvert_exporter": "python",
   "pygments_lexer": "ipython3",
   "version": "3.6.5"
  }
 },
 "nbformat": 4,
 "nbformat_minor": 2
}

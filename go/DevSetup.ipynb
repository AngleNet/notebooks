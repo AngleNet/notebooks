{
 "cells": [
  {
   "cell_type": "markdown",
   "metadata": {},
   "source": [
    "# Setup VScode for golang\n",
    "\n",
    "## [Glide](https://glide.sh)\n",
    "    ```\n",
    "    glide init\n",
    "    glide install\n",
    "    glide update\n",
    "    glide get github.com/Masterminds/semver#~1.2.0\n",
    "    glide mirror \n",
    "    ```\n",
    "## [dep](https://github.com/golang/dep)\n",
    "    ```\n",
    "    dep init\n",
    "    dep ensure -update\n",
    "    dep ensure -add\n",
    "    ```\n"
   ]
  },
  {
   "cell_type": "code",
   "execution_count": null,
   "metadata": {},
   "outputs": [],
   "source": []
  }
 ],
 "metadata": {
  "kernelspec": {
   "display_name": "Python 3",
   "language": "python",
   "name": "python3"
  },
  "language_info": {
   "codemirror_mode": {
    "name": "ipython",
    "version": 3
   },
   "file_extension": ".py",
   "mimetype": "text/x-python",
   "name": "python",
   "nbconvert_exporter": "python",
   "pygments_lexer": "ipython3",
   "version": "3.6.5"
  }
 },
 "nbformat": 4,
 "nbformat_minor": 2
}

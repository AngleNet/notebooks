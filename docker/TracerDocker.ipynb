{
 "cells": [
  {
   "cell_type": "markdown",
   "metadata": {},
   "source": [
    "## Distributed tracing system\n",
    "\n",
    "### Zipkin Docker\n",
    "```\n",
    "cd zipkin\n",
    "sudo docker-compose up\n",
    "cd brave-boot\n",
    "mvn compile exec:java -Dexec.mainClass=brave.webmvc.Backend \n",
    "mvn compile exec:java -Dexec.mainClass=brave.webmvc.Frontend\n",
    "```\n",
    "\n",
    "### Jaeger Docker\n",
    "```\n",
    "cd jaeger \n",
    "sudo docker-compose up\n",
    "sudo docker-compose -f docker-compose-hotrod.yml up\n",
    "```"
   ]
  },
  {
   "cell_type": "code",
   "execution_count": null,
   "metadata": {},
   "outputs": [],
   "source": []
  }
 ],
 "metadata": {
  "kernelspec": {
   "display_name": "Python 3",
   "language": "python",
   "name": "python3"
  },
  "language_info": {
   "codemirror_mode": {
    "name": "ipython",
    "version": 3
   },
   "file_extension": ".py",
   "mimetype": "text/x-python",
   "name": "python",
   "nbconvert_exporter": "python",
   "pygments_lexer": "ipython3",
   "version": "3.6.5"
  }
 },
 "nbformat": 4,
 "nbformat_minor": 2
}

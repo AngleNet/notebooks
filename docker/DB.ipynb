{
 "cells": [
  {
   "cell_type": "markdown",
   "metadata": {},
   "source": [
    "# DB"
   ]
  },
  {
   "cell_type": "markdown",
   "metadata": {},
   "source": [
    "## Mysql\n",
    "```bash\n",
    "docker run --name=mysql -p 3306:3306 -p 33060:33060 -d mysql/mysql-server:latest \n",
    "docker logs mysql 2>&1 # Will output password\n",
    "docker exec -it mysql mysql -uroot -p # Connect mysql above password\n",
    "mysql> ALTER USER 'root'@'localhost' IDENTIFIED BY 'password'; # Change password\n",
    "```\n"
   ]
  },
  {
   "cell_type": "code",
   "execution_count": null,
   "metadata": {},
   "outputs": [],
   "source": []
  }
 ],
 "metadata": {
  "kernelspec": {
   "display_name": "Python 3",
   "language": "python",
   "name": "python3"
  },
  "language_info": {
   "codemirror_mode": {
    "name": "ipython",
    "version": 3
   },
   "file_extension": ".py",
   "mimetype": "text/x-python",
   "name": "python",
   "nbconvert_exporter": "python",
   "pygments_lexer": "ipython3",
   "version": "3.6.5"
  }
 },
 "nbformat": 4,
 "nbformat_minor": 2
}

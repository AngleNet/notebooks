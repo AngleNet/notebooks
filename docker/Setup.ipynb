{
 "cells": [
  {
   "cell_type": "markdown",
   "metadata": {},
   "source": [
    "# Setup docker\n",
    "\n",
    "1. Install docker\n",
    "```\n",
    "apt install docker.io\n",
    "```\n",
    "2. Change the registry(See also [国内docker仓库](https://ieevee.com/tech/2016/09/28/docker-mirror.html))\n",
    "```\n",
    "sudo echo \"DOCKER_OPTS=\\\"--registry-mirror=http://hub-mirror.c.163.com\\\"\" >> /etc/default/docker\n",
    "service docker restart\n",
    "```\n",
    "3. Using [docker compose](https://docs.docker.com/compose/overview/) to manage multiple docker containers.\n",
    "```\n",
    "sudo apt install docker-compose\n",
    "```\n",
    "4. Clear all docker containers\n",
    "```bash\n",
    "sudo docker ps -a|awk '{print $1}'|xargs -n1  -I {} sudo docker rm {}\n",
    "```"
   ]
  },
  {
   "cell_type": "code",
   "execution_count": null,
   "metadata": {},
   "outputs": [],
   "source": []
  }
 ],
 "metadata": {
  "kernelspec": {
   "display_name": "Python 3",
   "language": "python",
   "name": "python3"
  },
  "language_info": {
   "codemirror_mode": {
    "name": "ipython",
    "version": 3
   },
   "file_extension": ".py",
   "mimetype": "text/x-python",
   "name": "python",
   "nbconvert_exporter": "python",
   "pygments_lexer": "ipython3",
   "version": "3.6.5"
  }
 },
 "nbformat": 4,
 "nbformat_minor": 2
}

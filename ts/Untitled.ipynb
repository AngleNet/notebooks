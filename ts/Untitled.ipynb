{
 "cells": [
  {
   "cell_type": "code",
   "execution_count": 8,
   "metadata": {},
   "outputs": [
    {
     "name": "stdout",
     "output_type": "stream",
     "text": [
      "f(): evaluated\n",
      "value_f\n",
      "g(): evaluated\n",
      "value_g\n",
      "g(): called\n",
      "f(): called\n",
      "target[object Object]\n",
      "propertyKeymethod\n",
      "{ value: [Function],\n",
      "  writable: true,\n",
      "  enumerable: true,\n",
      "  configurable: true }\n"
     ]
    },
    {
     "data": {
      "text/plain": [
       "undefined"
      ]
     },
     "execution_count": 8,
     "metadata": {},
     "output_type": "execute_result"
    }
   ],
   "source": [
    "function f(value: string) {\n",
    "    console.log(\"f(): evaluated\");\n",
    "    console.log(value);\n",
    "    return function (target, propertyKey: string, descriptor: PropertyDescriptor) {\n",
    "        console.log(\"f(): called\");\n",
    "        console.log('target' + target);\n",
    "        console.log('propertyKey' + propertyKey);\n",
    "        console.log(descriptor);\n",
    "    }\n",
    "}\n",
    "\n",
    "function g(value: string) {\n",
    "    console.log(\"g(): evaluated\");\n",
    "    console.log(value);\n",
    "    return function (target, propertyKey: string, descriptor: PropertyDescriptor) {\n",
    "        console.log(\"g(): called\");\n",
    "    }\n",
    "}\n",
    "\n",
    "class C {\n",
    "    @f('value_f')\n",
    "    @g('value_g')\n",
    "    method() {\n",
    "        console.log('method')\n",
    "    }\n",
    "}"
   ]
  },
  {
   "cell_type": "code",
   "execution_count": 9,
   "metadata": {},
   "outputs": [
    {
     "name": "stdout",
     "output_type": "stream",
     "text": [
      "method\n"
     ]
    },
    {
     "data": {
      "text/plain": [
       "undefined"
      ]
     },
     "execution_count": 9,
     "metadata": {},
     "output_type": "execute_result"
    }
   ],
   "source": [
    "let c = new C();\n",
    "c.method()"
   ]
  },
  {
   "cell_type": "code",
   "execution_count": 3,
   "metadata": {},
   "outputs": [
    {
     "name": "stdout",
     "output_type": "stream",
     "text": [
      "${value}\n"
     ]
    },
    {
     "data": {
      "text/plain": [
       "undefined"
      ]
     },
     "execution_count": 3,
     "metadata": {},
     "output_type": "execute_result"
    }
   ],
   "source": [
    "function log(value){\n",
    "    console.log('${value}')\n",
    "}\n",
    "log('test')"
   ]
  },
  {
   "cell_type": "code",
   "execution_count": 6,
   "metadata": {},
   "outputs": [
    {
     "name": "stdout",
     "output_type": "stream",
     "text": [
      "foo was called!\n",
      "test\n"
     ]
    },
    {
     "data": {
      "text/plain": [
       "undefined"
      ]
     },
     "execution_count": 6,
     "metadata": {},
     "output_type": "execute_result"
    }
   ],
   "source": [
    "function log(target, key, descriptor) {\n",
    "console.log(`${key} was called!`);\n",
    "}\n",
    "\n",
    "class P {\n",
    "@log\n",
    "foo() {\n",
    "console.log('test');\n",
    "}\n",
    "}\n",
    "const p = new P();\n",
    "p.foo();\n",
    "\n",
    "// printed to console :\n",
    "// foo was called!\n",
    "// Do something\n"
   ]
  },
  {
   "cell_type": "code",
   "execution_count": 7,
   "metadata": {},
   "outputs": [
    {
     "name": "stdout",
     "output_type": "stream",
     "text": [
      "test\n"
     ]
    },
    {
     "data": {
      "text/plain": [
       "undefined"
      ]
     },
     "execution_count": 7,
     "metadata": {},
     "output_type": "execute_result"
    }
   ],
   "source": [
    "p.foo()"
   ]
  },
  {
   "cell_type": "code",
   "execution_count": null,
   "metadata": {},
   "outputs": [],
   "source": []
  }
 ],
 "metadata": {
  "kernelspec": {
   "display_name": "Typescript 2.9",
   "language": "typescript",
   "name": "typescript"
  },
  "language_info": {
   "file_extension": ".ts",
   "mimetype": "text/x-typescript",
   "name": "typescript",
   "version": "2.9.2"
  }
 },
 "nbformat": 4,
 "nbformat_minor": 2
}

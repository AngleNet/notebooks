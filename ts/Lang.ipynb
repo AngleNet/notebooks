{
 "cells": [
  {
   "cell_type": "markdown",
   "metadata": {},
   "source": [
    "## Decorators\n",
    "\n",
    "在Typescript中，装饰器从上向下求值，从下向上调用。"
   ]
  },
  {
   "cell_type": "code",
   "execution_count": null,
   "metadata": {},
   "outputs": [],
   "source": [
    "function f() {\n",
    "    console.log(\"f(): evaluated\");\n",
    "    return function (target, propertyKey: string, descriptor: PropertyDescriptor) {\n",
    "        console.log(\"f(): called\");\n",
    "    }\n",
    "}\n",
    "\n",
    "function g() {\n",
    "    console.log(\"g(): evaluated\");\n",
    "    return function (target, propertyKey: string, descriptor: PropertyDescriptor) {\n",
    "        console.log(\"g(): called\");\n",
    "    }\n",
    "}\n",
    "\n",
    "function fly(){\n",
    "    console.log('fly(): evaluated');\n",
    "    return function (target){\n",
    "        console.log('fly(): called');\n",
    "    }\n",
    "}\n",
    "\n",
    "@fly()\n",
    "class C {\n",
    "    a: string;\n",
    "    constructor(a: string){\n",
    "        this.a = a;\n",
    "    }\n",
    "    @f()\n",
    "    @g()\n",
    "    method() {\n",
    "        console.log('method');\n",
    "    }\n",
    "}\n",
    "\n",
    "const c = new C('test');\n",
    "const d = new C('test');\n",
    "console.log(c.a);\n",
    "c.method();\n",
    "d.method();"
   ]
  },
  {
   "cell_type": "code",
   "execution_count": null,
   "metadata": {},
   "outputs": [],
   "source": []
  }
 ],
 "metadata": {
  "kernelspec": {
   "display_name": "Typescript 2.9",
   "language": "typescript",
   "name": "typescript"
  },
  "language_info": {
   "file_extension": ".ts",
   "mimetype": "text/x-typescript",
   "name": "typescript",
   "version": "2.9.2"
  }
 },
 "nbformat": 4,
 "nbformat_minor": 2
}

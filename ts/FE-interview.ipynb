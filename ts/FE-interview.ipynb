{
 "cells": [
  {
   "cell_type": "markdown",
   "metadata": {},
   "source": [
    "# FE Interview Qs\n",
    "See[25 FE Questions](https://blog.csdn.net/qq_25186543/article/details/78456984)\n",
    "1. 使用 `typeof bar === \"object\" `来确定 bar 是否是对象的潜在陷阱是什么？如何避免这个陷阱？\n",
    "    * `null` is also an `object` in `JS`"
   ]
  },
  {
   "cell_type": "markdown",
   "metadata": {},
   "source": [
    "2. Code output?\n",
    "```typescript\n",
    "(function(){ \n",
    "    var a = b = 3; //same as var a = 3; b = 3;\n",
    "})();\n",
    "console.log(\"a defined? \" + (typeof a !== 'undefined'));\n",
    "console.log(\"b defined? \" + (typeof b !== 'undefined')); //b is defined. In 'use strict', b is undefined.\n",
    "```"
   ]
  },
  {
   "cell_type": "markdown",
   "metadata": {},
   "source": [
    "3. Code output?"
   ]
  },
  {
   "cell_type": "code",
   "execution_count": null,
   "metadata": {
    "scrolled": true
   },
   "outputs": [],
   "source": [
    "var myObject = {\n",
    "    foo: \"bar\",\n",
    "    func: function() {        \n",
    "        var self = this;       \n",
    "        console.log(\"outer func:  this.foo = \" + this.foo);       \n",
    "        console.log(\"outer func:  self.foo = \" + self.foo);\n",
    "        (function() {            \n",
    "            console.log(\"inner func:  this.foo = \" + this.foo); //this is not bind    \n",
    "            console.log(\"inner func:  self.foo = \" + self.foo);\n",
    "        }());\n",
    "    }\n",
    "};\n",
    "myObject.func();"
   ]
  },
  {
   "cell_type": "markdown",
   "metadata": {},
   "source": [
    "4. 封装JavaScript源文件的全部内容到一个函数块有什么意义及理由?\n",
    "    * 创建了一个私有的命名空间"
   ]
  },
  {
   "cell_type": "markdown",
   "metadata": {},
   "source": [
    "5. `use strict` 有什么意义和好处?\n",
    "\n",
    "    * `use strict` 是一种在JavaScript代码运行时自动实行更严格解析和错误处理的方法。\n",
    "    * 防止意外的全局变量\n",
    "    * 消除 this 强制。如果没有严格模式，引用null或未定义的值到 this 值会自动强制到全局变量\n",
    "    * 在 delete使用无效时抛出错误\n",
    "    "
   ]
  },
  {
   "cell_type": "markdown",
   "metadata": {},
   "source": [
    "6. Code output?"
   ]
  },
  {
   "cell_type": "code",
   "execution_count": null,
   "metadata": {},
   "outputs": [],
   "source": [
    "function foo1(){  return {\n",
    "      bar: \"hello\"\n",
    "  };\n",
    "}function foo2(){  return //JS会自动在return换行后添加；\n",
    "  {\n",
    "      bar: \"hello\"\n",
    "  };\n",
    "}\n",
    "console.log(foo1())\n",
    "console.log(foo2())"
   ]
  },
  {
   "cell_type": "markdown",
   "metadata": {},
   "source": [
    "7. "
   ]
  }
 ],
 "metadata": {
  "kernelspec": {
   "display_name": "Typescript 2.9",
   "language": "typescript",
   "name": "typescript"
  },
  "language_info": {
   "file_extension": ".ts",
   "mimetype": "text/x-typescript",
   "name": "typescript",
   "version": "2.9.2"
  }
 },
 "nbformat": 4,
 "nbformat_minor": 2
}

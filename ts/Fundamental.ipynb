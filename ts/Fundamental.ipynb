{
 "cells": [
  {
   "cell_type": "markdown",
   "metadata": {},
   "source": [
    "# FE Fundamentals\n",
    "1. IE的怪异盒模型和标准浏览器的盒模型? Box-sizing(场景)? Flex布局？\n",
    "    \n",
    "    分为两种盒模型：IE的盒模型和标准盒模型。IE的盒模型中width和height包括了border，padding和content。标准盒模型只包括了content。\n",
    "    设置：\n",
    "    ```css\n",
    "    box-sizing: content-box;\n",
    "    box-sizing: border-box; //IE\n",
    "    ```\n",
    "    `box-sizing`的应用场景：\n",
    "    \n",
    "        1. css reset中让代码更加符合UI设计者的逻辑\n",
    "        2. 布局三栏目：防止第三栏被挤掉(50%, 25%, 25%)\n",
    "    \n",
    "    BFC布局规则：\n",
    "    \n",
    "        * 内部的Box会在垂直方向，一个接一个地放置。\n",
    "        * Box垂直方向的距离由margin决定。属于同一个BFC的两个相邻Box的margin会发生重叠\n",
    "        * 每个元素的margin box的左边， 与包含块border box的左边相接触(对于从左往右的格式化，否则相反)。即使存在浮动也是如此。\n",
    "        * BFC的区域不会与float box重叠。\n",
    "        * BFC就是页面上的一个隔离的独立容器，容器里面的子元素不会影响到外面的元素。反之也如此。\n",
    "        * 计算BFC的高度时，浮动元素也参与计算\n",
    "        \n",
    "    如何创建BFC\n",
    "    \n",
    "        * 根元素\n",
    "        * float属性不为none\n",
    "        * position为absolute或fixed\n",
    "        * display为inline-block, table-cell, table-caption, flex, inline-flex\n",
    "        * overflow不为visible\n",
    "    BFC的作用？\n",
    "    \n",
    "        1. 避免\n",
    "    See also:\n",
    "    * [外边距折叠](http://www.cnblogs.com/winter-cn/archive/2012/11/16/2772562.html)\n",
    "    * [外边距折叠计算](http://www.w3help.org/zh-cn/kb/006/)\n",
    " \n",
    "    \n",
    "2. 未知宽高元素如何水平垂直居中？\n",
    "3. Dom事件绑定的几种方式？\n",
    "4. HTTP协议？协商缓存和强制缓存\n",
    "5. webpack的入口文件怎么配置\n",
    "6. webpack的原理？\n",
    "7. git flow？\n",
    "8. JS模块化规范？\n",
    "9. vue双向数据绑定的原理？\n",
    "10. Angular的脏检查？\n",
    "11. [](https://www.cnblogs.com/luozhihao/p/8635507.html) [](https://www.cnblogs.com/yunfeifei/p/4453690.html)\n",
    "\n",
    "* 继承和原型链\n",
    "* 严格模式\n",
    "* 内存管理\n",
    "* 并发\n",
    "* 闭包\n"
   ]
  },
  {
   "cell_type": "code",
   "execution_count": null,
   "metadata": {},
   "outputs": [],
   "source": []
  }
 ],
 "metadata": {
  "kernelspec": {
   "display_name": "Typescript 2.9",
   "language": "typescript",
   "name": "typescript"
  },
  "language_info": {
   "file_extension": ".ts",
   "mimetype": "text/x-typescript",
   "name": "typescript",
   "version": "2.9.2"
  }
 },
 "nbformat": 4,
 "nbformat_minor": 2
}

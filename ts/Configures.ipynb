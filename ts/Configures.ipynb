{
 "cells": [
  {
   "cell_type": "markdown",
   "metadata": {},
   "source": [
    "## FE development environment\n",
    "### Yarn \n",
    "1. Install `yarn`\n",
    "```\n",
    "npm install -g yarn\n",
    "```\n",
    "2. Configure Taobao mirrors\n",
    "```\n",
    "yarn config set registry https://registry.npm.taobao.org -g\n",
    "yarn config set sass_binary_site http://cdn.npm.taobao.org/dist/node-sass -g\n",
    "```"
   ]
  },
  {
   "cell_type": "markdown",
   "metadata": {},
   "source": [
    "### Chrome `ndb`\n",
    "1. Install `ndb`\n",
    "```\n",
    "cnpm install -g ndb\n",
    "```"
   ]
  },
  {
   "cell_type": "markdown",
   "metadata": {},
   "source": [
    "### Debugging\n",
    "\n",
    "See[Angular's DEBUG.md](https://github.com/angular/angular/docs/DEBUG.md)\n",
    "See[Angular's TOOLS.md](https://github.com/angular/angular/docs/TOOLS.md)"
   ]
  },
  {
   "cell_type": "markdown",
   "metadata": {},
   "source": [
    "### Code Style\n",
    "\n",
    "See [Microsoft Typescript Style](https://github.com/Microsoft/TypeScript/wiki/Coding-guidelines)"
   ]
  },
  {
   "cell_type": "code",
   "execution_count": null,
   "metadata": {},
   "outputs": [],
   "source": []
  }
 ],
 "metadata": {
  "kernelspec": {
   "display_name": "Python 3",
   "language": "python",
   "name": "python3"
  },
  "language_info": {
   "codemirror_mode": {
    "name": "ipython",
    "version": 3
   },
   "file_extension": ".py",
   "mimetype": "text/x-python",
   "name": "python",
   "nbconvert_exporter": "python",
   "pygments_lexer": "ipython3",
   "version": "3.6.5"
  }
 },
 "nbformat": 4,
 "nbformat_minor": 2
}

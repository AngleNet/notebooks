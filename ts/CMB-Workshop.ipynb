{
 "cells": [
  {
   "cell_type": "markdown",
   "metadata": {},
   "source": [
    "# CMB FE Workshop\n",
    "* Jquery\n",
    "* JS\n",
    "* Angular"
   ]
  },
  {
   "cell_type": "markdown",
   "metadata": {},
   "source": [
    "## JS\n",
    "1. `var` keyword\n",
    "没有`var`时作用域为全局\n",
    "2. `this`谁调用就指向谁"
   ]
  },
  {
   "cell_type": "code",
   "execution_count": 7,
   "metadata": {},
   "outputs": [
    {
     "name": "stdout",
     "output_type": "stream",
     "text": [
      "2\n",
      "3\n"
     ]
    },
    {
     "data": {
      "text/plain": [
       "undefined"
      ]
     },
     "execution_count": 7,
     "metadata": {},
     "output_type": "execute_result"
    }
   ],
   "source": [
    "var obj = {\n",
    "    foo: function(){\n",
    "        console.log(this.bar);\n",
    "    },\n",
    "    bar: 2\n",
    "};\n",
    "obj.foo(); //this被绑定到了obj\n",
    "var bar = 3;\n",
    "var foo = obj.foo;\n",
    "foo() //this被绑定到了全局环境"
   ]
  },
  {
   "cell_type": "markdown",
   "metadata": {},
   "source": [
    "## Angular\n",
    "\n",
    "APPComponent 用于启动前端的框架\n",
    "路由： 主路由指向module，分路由指向组件\n",
    "权限使用localstorage和sessionstorage（用于替代cookie）来实现,数据权限和控制权限相分开;\n",
    "前端跨域问题：反向代理；有问题可以问翔哥\n",
    "css调试？？？\n",
    "前端上线以后除了问题不要慌\n",
    "前端的异常处理？？？如何做？要不要将异常上报？ 后台会收集前端的操作日志，分为前端显示不显示，不影响前端正常渲染就行\n",
    "传统前端开发：\n",
    "不建议前端做单元测试，robotframework,页面元素定位（加入锚点）"
   ]
  },
  {
   "cell_type": "code",
   "execution_count": null,
   "metadata": {},
   "outputs": [],
   "source": []
  }
 ],
 "metadata": {
  "kernelspec": {
   "display_name": "Typescript 2.9",
   "language": "typescript",
   "name": "typescript"
  },
  "language_info": {
   "file_extension": ".ts",
   "mimetype": "text/x-typescript",
   "name": "typescript",
   "version": "2.9.2"
  }
 },
 "nbformat": 4,
 "nbformat_minor": 2
}

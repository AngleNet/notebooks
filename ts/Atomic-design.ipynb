{
 "cells": [
  {
   "cell_type": "markdown",
   "metadata": {},
   "source": [
    "# Atomic Design\n",
    "template 页面，page 页面\n",
    "组件之间数据流动：通过纯函数式的抽象，父子组件之间利用output，input传递数据，\n",
    "当父子组件之间嵌套层次过深的问题：1. 维护复杂度（当参数需要修改时，需要做的改动较大）2. 数据更新效率低下\n",
    "当用template时"
   ]
  },
  {
   "cell_type": "code",
   "execution_count": null,
   "metadata": {},
   "outputs": [],
   "source": []
  }
 ],
 "metadata": {
  "kernelspec": {
   "display_name": "Typescript 2.9",
   "language": "typescript",
   "name": "typescript"
  },
  "language_info": {
   "file_extension": ".ts",
   "mimetype": "text/x-typescript",
   "name": "typescript",
   "version": "2.9.2"
  }
 },
 "nbformat": 4,
 "nbformat_minor": 2
}

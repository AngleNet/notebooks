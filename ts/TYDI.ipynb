{
 "cells": [
  {
   "cell_type": "markdown",
   "metadata": {},
   "source": [
    "# TYDI--A simple dependency injector\n",
    "\n",
    "AOP，DI，IOC\n",
    "* 能够为类注入依赖\n",
    "* 能够检测循环依赖\n",
    "* 良好的错误处理方式\n",
    "* 能够直接为类属性注入依赖\n",
    "\n",
    "在Typescript中有两种方式可以用于依赖注入：\n",
    "    1. 通过从Function.toString()中用正则表达式找到函数的参数\n",
    "    2. 通过reflect-metadata直接获取：需要先手动为依赖指定类型\n",
    "   \n",
    "问题：\n",
    "1. 如何获取参数类型\n",
    "2. 如何获取参数名称"
   ]
  },
  {
   "cell_type": "code",
   "execution_count": 1,
   "metadata": {},
   "outputs": [
    {
     "name": "stdout",
     "output_type": "stream",
     "text": [
      "class_1 {\n",
      "  property: 'property',\n",
      "  hello: 'override',\n",
      "  newProperty: 'new property' }\n"
     ]
    },
    {
     "data": {
      "text/plain": [
       "undefined"
      ]
     },
     "execution_count": 1,
     "metadata": {},
     "output_type": "execute_result"
    }
   ],
   "source": [
    "function classDecorator<T extends {new(...args:any[]):{}}>(constructor:T) {\n",
    "    return class extends constructor {\n",
    "        newProperty = \"new property\";\n",
    "        hello = \"override\";\n",
    "    }\n",
    "}\n",
    "\n",
    "@classDecorator\n",
    "class Greeter {\n",
    "    property = \"property\";\n",
    "    hello: string;\n",
    "    constructor(m: string) {\n",
    "        this.hello = m;\n",
    "    }\n",
    "}\n",
    "\n",
    "console.log(new Greeter(\"world\"));\n"
   ]
  },
  {
   "cell_type": "code",
   "execution_count": null,
   "metadata": {},
   "outputs": [],
   "source": []
  }
 ],
 "metadata": {
  "kernelspec": {
   "display_name": "Typescript 2.9",
   "language": "typescript",
   "name": "typescript"
  },
  "language_info": {
   "file_extension": ".ts",
   "mimetype": "text/x-typescript",
   "name": "typescript",
   "version": "2.9.2"
  }
 },
 "nbformat": 4,
 "nbformat_minor": 2
}
